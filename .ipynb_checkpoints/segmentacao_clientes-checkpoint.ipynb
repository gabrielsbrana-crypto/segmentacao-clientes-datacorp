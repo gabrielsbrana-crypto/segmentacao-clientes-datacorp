{
  "cells": [
    {
      "cell_type": "markdown",
      "metadata": {},
      "source": [
        "# \ud83d\udcca Projeto: Segmenta\u00e7\u00e3o Inteligente de Clientes\n",
        "### Datacorp AI Lab - Setor de Marketing  \n",
        "**Professor:** Ms. Alex Lima  \n",
        "**Disciplina:** Aprendizado de M\u00e1quina  \n",
        "**Aluno:** [SEU NOME AQUI]"
      ]
    },
    {
      "cell_type": "markdown",
      "metadata": {},
      "source": [
        "## 1. Introdu\u00e7\u00e3o\n",
        "**Objetivo:** Aplicar t\u00e9cnicas de machine learning n\u00e3o supervisionado (clustering) para segmentar clientes da Datacorp, permitindo campanhas de marketing personalizadas."
      ]
    },
    {
      "cell_type": "code",
      "metadata": {},
      "source": [
        "# 2. Importa\u00e7\u00e3o de bibliotecas\n",
        "import pandas as pd\n",
        "import numpy as np\n",
        "import matplotlib.pyplot as plt\n",
        "import seaborn as sns\n",
        "from sklearn.preprocessing import StandardScaler\n",
        "from sklearn.cluster import KMeans\n",
        "from sklearn.metrics import silhouette_score"
      ],
      "execution_count": null,
      "outputs": []
    },
    {
      "cell_type": "code",
      "metadata": {},
      "source": [
        "# 3. Carregamento e visualiza\u00e7\u00e3o dos dados\n",
        "df = pd.read_csv('marketing_campaign.csv', sep='\\t')\n",
        "print(\"Shape do dataset:\", df.shape)\n",
        "df.head()"
      ],
      "execution_count": null,
      "outputs": []
    },
    {
      "cell_type": "code",
      "metadata": {},
      "source": [
        "# 4. Pr\u00e9-processamento\n",
        "from datetime import datetime\n",
        "df['Age'] = datetime.now().year - df['Year_Birth']\n",
        "colunas_remover = ['ID', 'Year_Birth', 'Z_CostContact', 'Z_Revenue', 'Dt_Customer']\n",
        "df.drop(columns=colunas_remover, inplace=True)\n",
        "df.dropna(inplace=True)"
      ],
      "execution_count": null,
      "outputs": []
    },
    {
      "cell_type": "code",
      "metadata": {},
      "source": [
        "# 5. Sele\u00e7\u00e3o e normaliza\u00e7\u00e3o das vari\u00e1veis\n",
        "features = ['Income', 'Age', 'MntWines', 'MntFruits', 'MntMeatProducts', 'MntFishProducts', 'MntSweetProducts', 'MntGoldProds']\n",
        "X = df[features]\n",
        "scaler = StandardScaler()\n",
        "X_scaled = scaler.fit_transform(X)"
      ],
      "execution_count": null,
      "outputs": []
    },
    {
      "cell_type": "code",
      "metadata": {},
      "source": [
        "# 6. Encontrando o n\u00famero ideal de clusters\n",
        "scores = []\n",
        "k_range = range(2, 11)\n",
        "for k in k_range:\n",
        "    kmeans = KMeans(n_clusters=k, random_state=42)\n",
        "    kmeans.fit(X_scaled)\n",
        "    score = silhouette_score(X_scaled, kmeans.labels_)\n",
        "    scores.append(score)\n",
        "\n",
        "plt.plot(k_range, scores, marker='o')\n",
        "plt.title('Silhouette Score por n\u00famero de clusters')\n",
        "plt.xlabel('N\u00famero de clusters')\n",
        "plt.ylabel('Silhouette Score')\n",
        "plt.grid()\n",
        "plt.show()"
      ],
      "execution_count": null,
      "outputs": []
    },
    {
      "cell_type": "code",
      "metadata": {},
      "source": [
        "# 7. Aplicando K-Means com k definido (ex: k=4)\n",
        "k = 4\n",
        "kmeans = KMeans(n_clusters=k, random_state=42)\n",
        "kmeans.fit(X_scaled)\n",
        "df['Cluster'] = kmeans.labels_"
      ],
      "execution_count": null,
      "outputs": []
    },
    {
      "cell_type": "code",
      "metadata": {},
      "source": [
        "# 8. An\u00e1lise dos clusters\n",
        "cluster_summary = df.groupby('Cluster')[features].mean()\n",
        "print(\"Resumo dos clusters:\\n\")\n",
        "print(cluster_summary)\n",
        "\n",
        "sns.pairplot(df, hue='Cluster', vars=['Income', 'Age', 'MntWines'])\n",
        "plt.show()"
      ],
      "execution_count": null,
      "outputs": []
    },
    {
      "cell_type": "markdown",
      "metadata": {},
      "source": [
        "## 9. Conclus\u00e3o\n",
        "- Cada cluster representa um perfil distinto de cliente\n",
        "- Permite campanhas personalizadas e mais eficientes\n",
        "- Pode aumentar convers\u00e3o, engajamento e reduzir custos de marketing\n",
        "\n",
        "**Pr\u00f3ximos passos:**\n",
        "- Incluir vari\u00e1veis comportamentais\n",
        "- Aplicar PCA para visualiza\u00e7\u00e3o em 2D"
      ]
    },
    {
      "cell_type": "markdown",
      "metadata": {},
      "source": [
        "## 10. Dicion\u00e1rio de Dados\n",
        "- `Income`: Renda anual\n",
        "- `Age`: Idade estimada\n",
        "- `MntWines`: Gasto com vinhos\n",
        "- `MntFruits`: Gasto com frutas\n",
        "- `MntMeatProducts`: Gasto com carnes\n",
        "- `MntFishProducts`: Gasto com peixes\n",
        "- `MntSweetProducts`: Gasto com doces\n",
        "- `MntGoldProds`: Gasto com produtos premium\n",
        "- `Cluster`: Grupo atribu\u00eddo pelo modelo K-Means"
      ]
    }
  ],
  "metadata": {
    "kernelspec": {
      "display_name": "Python 3",
      "language": "python",
      "name": "python3"
    },
    "language_info": {
      "name": "python",
      "version": ""
    }
  },
  "nbformat": 4,
  "nbformat_minor": 5
}